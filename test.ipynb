{
 "cells": [
  {
   "cell_type": "code",
   "execution_count": 1,
   "metadata": {},
   "outputs": [],
   "source": [
    "\n",
    "from tmc_summarizer.data_model import TMC_File"
   ]
  },
  {
   "cell_type": "code",
   "execution_count": 2,
   "metadata": {},
   "outputs": [
    {
     "name": "stdout",
     "output_type": "stream",
     "text": [
      "Reading 1_Central_Ave.xls\n",
      "1900-01-01 00:00:00\n",
      "<class 'pandas._libs.tslibs.timestamps.Timestamp'>\n"
     ]
    },
    {
     "ename": "TypeError",
     "evalue": "combine() argument 2 must be datetime.time, not Timestamp",
     "output_type": "error",
     "traceback": [
      "\u001b[0;31m---------------------------------------------------------------------------\u001b[0m",
      "\u001b[0;31mTypeError\u001b[0m                                 Traceback (most recent call last)",
      "\u001b[1;32m/Users/markmorley/repos/tmc-summarizer/test.ipynb Cell 2'\u001b[0m in \u001b[0;36m<cell line: 1>\u001b[0;34m()\u001b[0m\n\u001b[0;32m----> <a href='vscode-notebook-cell:/Users/markmorley/repos/tmc-summarizer/test.ipynb#ch0000001?line=0'>1</a>\u001b[0m tmc \u001b[39m=\u001b[39m TMC_File(\u001b[39m'\u001b[39;49m\u001b[39m/Volumes/GoogleDrive/My Drive/TMCs/1_Central_Ave.xls\u001b[39;49m\u001b[39m'\u001b[39;49m)\n",
      "File \u001b[0;32m~/repos/tmc-summarizer/tmc_summarizer/data_model.py:158\u001b[0m, in \u001b[0;36mTMC_File.__init__\u001b[0;34m(self, filepath, geocode_helper)\u001b[0m\n\u001b[1;32m    <a href='file:///Users/markmorley/repos/tmc-summarizer/tmc_summarizer/data_model.py?line=152'>153</a>\u001b[0m         \u001b[39mself\u001b[39m\u001b[39m.\u001b[39mend_time \u001b[39m=\u001b[39m row\u001b[39m.\u001b[39mtime\n\u001b[1;32m    <a href='file:///Users/markmorley/repos/tmc-summarizer/tmc_summarizer/data_model.py?line=154'>155</a>\u001b[0m \u001b[39m# Read the DATA tabs into dataframes\u001b[39;00m\n\u001b[1;32m    <a href='file:///Users/markmorley/repos/tmc-summarizer/tmc_summarizer/data_model.py?line=155'>156</a>\u001b[0m \u001b[39m# ----------------------------------\u001b[39;00m\n\u001b[0;32m--> <a href='file:///Users/markmorley/repos/tmc-summarizer/tmc_summarizer/data_model.py?line=157'>158</a>\u001b[0m \u001b[39mself\u001b[39m\u001b[39m.\u001b[39mdf_cars \u001b[39m=\u001b[39m \u001b[39mself\u001b[39;49m\u001b[39m.\u001b[39;49mread_data_tab(\u001b[39m\"\u001b[39;49m\u001b[39mCars\u001b[39;49m\u001b[39m\"\u001b[39;49m)\n",
      "File \u001b[0;32m~/repos/tmc-summarizer/tmc_summarizer/data_model.py:227\u001b[0m, in \u001b[0;36mTMC_File.read_data_tab\u001b[0;34m(self, tabname)\u001b[0m\n\u001b[1;32m    <a href='file:///Users/markmorley/repos/tmc-summarizer/tmc_summarizer/data_model.py?line=223'>224</a>\u001b[0m df[\u001b[39m\"\u001b[39m\u001b[39mdatetime\u001b[39m\u001b[39m\"\u001b[39m] \u001b[39m=\u001b[39m \u001b[39mNone\u001b[39;00m\n\u001b[1;32m    <a href='file:///Users/markmorley/repos/tmc-summarizer/tmc_summarizer/data_model.py?line=225'>226</a>\u001b[0m \u001b[39mfor\u001b[39;00m idx, row \u001b[39min\u001b[39;00m df\u001b[39m.\u001b[39miterrows():\n\u001b[0;32m--> <a href='file:///Users/markmorley/repos/tmc-summarizer/tmc_summarizer/data_model.py?line=226'>227</a>\u001b[0m     df\u001b[39m.\u001b[39mat[idx, \u001b[39m\"\u001b[39m\u001b[39mdatetime\u001b[39m\u001b[39m\"\u001b[39m] \u001b[39m=\u001b[39m datetime\u001b[39m.\u001b[39;49mcombine(\u001b[39mself\u001b[39;49m\u001b[39m.\u001b[39;49mdate, row\u001b[39m.\u001b[39;49mtime)\n\u001b[1;32m    <a href='file:///Users/markmorley/repos/tmc-summarizer/tmc_summarizer/data_model.py?line=228'>229</a>\u001b[0m \u001b[39mdel\u001b[39;00m df[\u001b[39m\"\u001b[39m\u001b[39mtime\u001b[39m\u001b[39m\"\u001b[39m]\n\u001b[1;32m    <a href='file:///Users/markmorley/repos/tmc-summarizer/tmc_summarizer/data_model.py?line=230'>231</a>\u001b[0m \u001b[39m# Set the dataframe index to the timestamp\u001b[39;00m\n",
      "\u001b[0;31mTypeError\u001b[0m: combine() argument 2 must be datetime.time, not Timestamp"
     ]
    }
   ],
   "source": [
    "tmc = TMC_File('/Volumes/GoogleDrive/My Drive/TMCs/1_Central_Ave.xls')\n"
   ]
  }
 ],
 "metadata": {
  "interpreter": {
   "hash": "69ffde763a34848e0e442c52d389c3e1136d405f3112c2de76f79b0dc2777b50"
  },
  "kernelspec": {
   "display_name": "Python 3.8.13 ('tmc_summarizer')",
   "language": "python",
   "name": "python3"
  },
  "language_info": {
   "codemirror_mode": {
    "name": "ipython",
    "version": 3
   },
   "file_extension": ".py",
   "mimetype": "text/x-python",
   "name": "python",
   "nbconvert_exporter": "python",
   "pygments_lexer": "ipython3",
   "version": "3.8.13"
  },
  "orig_nbformat": 4
 },
 "nbformat": 4,
 "nbformat_minor": 2
}
