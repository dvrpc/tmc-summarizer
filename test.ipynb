{
 "cells": [
  {
   "cell_type": "code",
   "execution_count": 1,
   "metadata": {},
   "outputs": [
    {
     "name": "stdout",
     "output_type": "stream",
     "text": [
      "Reading 1_Central_Ave.xls\n"
     ]
    },
    {
     "name": "stderr",
     "output_type": "stream",
     "text": [
      "/Users/markmorley/repos/tmc-summarizer/tmc_summarizer/data_model.py:292: SettingWithCopyWarning: \n",
      "A value is trying to be set on a copy of a slice from a DataFrame.\n",
      "Try using .loc[row_indexer,col_indexer] = value instead\n",
      "\n",
      "See the caveats in the documentation: https://pandas.pydata.org/pandas-docs/stable/user_guide/indexing.html#returning-a-view-versus-a-copy\n",
      "  df[\"datetime\"] = None\n",
      "/Users/markmorley/repos/tmc-summarizer/tmc_summarizer/data_model.py:292: SettingWithCopyWarning: \n",
      "A value is trying to be set on a copy of a slice from a DataFrame.\n",
      "Try using .loc[row_indexer,col_indexer] = value instead\n",
      "\n",
      "See the caveats in the documentation: https://pandas.pydata.org/pandas-docs/stable/user_guide/indexing.html#returning-a-view-versus-a-copy\n",
      "  df[\"datetime\"] = None\n",
      "/Users/markmorley/repos/tmc-summarizer/tmc_summarizer/data_model.py:292: SettingWithCopyWarning: \n",
      "A value is trying to be set on a copy of a slice from a DataFrame.\n",
      "Try using .loc[row_indexer,col_indexer] = value instead\n",
      "\n",
      "See the caveats in the documentation: https://pandas.pydata.org/pandas-docs/stable/user_guide/indexing.html#returning-a-view-versus-a-copy\n",
      "  df[\"datetime\"] = None\n"
     ]
    }
   ],
   "source": [
    "from tmc_summarizer import TMC_File \n",
    "tmc = TMC_File('/Volumes/GoogleDrive/My Drive/tmc_copy/1_Central_Ave.xls')"
   ]
  },
  {
   "cell_type": "code",
   "execution_count": 2,
   "metadata": {},
   "outputs": [
    {
     "data": {
      "text/plain": [
       "{'location_id': '1',\n",
       " 'location_name': '162251 - CR 620 Arena Dr & Central Ave',\n",
       " 'date': '2022-03-24',\n",
       " 'time': '06:00:00 to 19:00:00',\n",
       " 'am_peak': '07:15 to 08:15',\n",
       " 'pm_peak': '15:30 to 16:30',\n",
       " 'am_peak_raw': (Timestamp('2022-03-24 07:15:00'),\n",
       "  Timestamp('2022-03-24 08:15:00')),\n",
       " 'pm_peak_raw': (Timestamp('2022-03-24 15:30:00'),\n",
       "  Timestamp('2022-03-24 16:30:00')),\n",
       " 'am_peak_hour_factor': 0.9068493150684932,\n",
       " 'pm_peak_hour_factor': 0.9402985074626866,\n",
       " 'leg_nb': 'Central Ave',\n",
       " 'leg_eb': 'CR 620 Arena Dr',\n",
       " 'leg_wb': 'CR 620 Arena Dr',\n",
       " 'filepath': '/Volumes/GoogleDrive/My Drive/tmc_copy/1_Central_Ave.xls'}"
      ]
     },
     "execution_count": 2,
     "metadata": {},
     "output_type": "execute_result"
    }
   ],
   "source": [
    "# tmc.peak_hour_factor('am')\n",
    "tmc.meta"
   ]
  }
 ],
 "metadata": {
  "interpreter": {
   "hash": "69ffde763a34848e0e442c52d389c3e1136d405f3112c2de76f79b0dc2777b50"
  },
  "kernelspec": {
   "display_name": "Python 3.8.13 ('tmc_summarizer')",
   "language": "python",
   "name": "python3"
  },
  "language_info": {
   "codemirror_mode": {
    "name": "ipython",
    "version": 3
   },
   "file_extension": ".py",
   "mimetype": "text/x-python",
   "name": "python",
   "nbconvert_exporter": "python",
   "pygments_lexer": "ipython3",
   "version": "3.8.13"
  },
  "orig_nbformat": 4
 },
 "nbformat": 4,
 "nbformat_minor": 2
}
