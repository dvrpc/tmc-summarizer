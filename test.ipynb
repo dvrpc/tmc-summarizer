{
 "cells": [
  {
   "cell_type": "code",
   "execution_count": 1,
   "metadata": {},
   "outputs": [],
   "source": [
    "from pathlib import Path\n",
    "from tmc_summarizer.data_model import TMC_File\n",
    "tmc_path = '/mnt/g/My Drive/TMCs/1_Central_Ave.xls'"
   ]
  },
  {
   "cell_type": "code",
   "execution_count": 2,
   "metadata": {},
   "outputs": [
    {
     "name": "stdout",
     "output_type": "stream",
     "text": [
      "Reading 1_Central_Ave.xls\n"
     ]
    }
   ],
   "source": [
    "tmc = TMC_File(tmc_path)\n",
    "# tmc.df_cars.head(50)\n",
    "\n"
   ]
  }
 ],
 "metadata": {
  "interpreter": {
   "hash": "c8f58f42a5efc4c93fa2b656e0d4587a7fc0ed98038db235e73ba452edb6582e"
  },
  "kernelspec": {
   "display_name": "Python 3.8.13 ('tmc_summarizer')",
   "language": "python",
   "name": "python3"
  },
  "language_info": {
   "codemirror_mode": {
    "name": "ipython",
    "version": 3
   },
   "file_extension": ".py",
   "mimetype": "text/x-python",
   "name": "python",
   "nbconvert_exporter": "python",
   "pygments_lexer": "ipython3",
   "version": "3.8.13"
  },
  "orig_nbformat": 4
 },
 "nbformat": 4,
 "nbformat_minor": 2
}
