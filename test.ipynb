{
 "cells": [
  {
   "cell_type": "code",
   "execution_count": 8,
   "metadata": {},
   "outputs": [
    {
     "name": "stdout",
     "output_type": "stream",
     "text": [
      "/mnt/g/My Drive/TMCs/1_Central_Ave.xls\n"
     ]
    }
   ],
   "source": [
    "from pathlib import Path\n",
    "from tmc_summarizer.data_model import TMC_File\n",
    "gdrive_root = Path('/mnt/g')\n",
    "tmc_path = gdrive_root / 'My Drive/TMCs/1_Central_Ave.xls'\n",
    "print(tmc_path)"
   ]
  },
  {
   "cell_type": "code",
   "execution_count": 9,
   "metadata": {},
   "outputs": [
    {
     "name": "stdout",
     "output_type": "stream",
     "text": [
      "Reading 1_Central_Ave.xls\n"
     ]
    },
    {
     "ename": "FileNotFoundError",
     "evalue": "[Errno 2] No such file or directory: '/mnt/g/My Drive/TMCs/1_Central_Ave.xls'",
     "output_type": "error",
     "traceback": [
      "\u001b[0;31m---------------------------------------------------------------------------\u001b[0m",
      "\u001b[0;31mFileNotFoundError\u001b[0m                         Traceback (most recent call last)",
      "\u001b[1;32m/home/mmorley0395/repos/tmc-summarizer/test.ipynb Cell 2'\u001b[0m in \u001b[0;36m<cell line: 1>\u001b[0;34m()\u001b[0m\n\u001b[0;32m----> <a href='vscode-notebook-cell://wsl%2Bubuntu/home/mmorley0395/repos/tmc-summarizer/test.ipynb#ch0000001vscode-remote?line=0'>1</a>\u001b[0m tmc \u001b[39m=\u001b[39m TMC_File(tmc_path)\n",
      "File \u001b[0;32m~/repos/tmc-summarizer/tmc_summarizer/data_model.py:105\u001b[0m, in \u001b[0;36mTMC_File.__init__\u001b[0;34m(self, filepath, geocode_helper)\u001b[0m\n\u001b[1;32m     <a href='file:///home/mmorley0395/repos/tmc-summarizer/tmc_summarizer/data_model.py?line=94'>95</a>\u001b[0m \u001b[39m# Load the INFORMATION tab data on place names\u001b[39;00m\n\u001b[1;32m     <a href='file:///home/mmorley0395/repos/tmc-summarizer/tmc_summarizer/data_model.py?line=95'>96</a>\u001b[0m \u001b[39m# --------------------------------------------\u001b[39;00m\n\u001b[1;32m     <a href='file:///home/mmorley0395/repos/tmc-summarizer/tmc_summarizer/data_model.py?line=97'>98</a>\u001b[0m location_kwargs \u001b[39m=\u001b[39m {\n\u001b[1;32m     <a href='file:///home/mmorley0395/repos/tmc-summarizer/tmc_summarizer/data_model.py?line=98'>99</a>\u001b[0m     \u001b[39m\"\u001b[39m\u001b[39msheet_name\u001b[39m\u001b[39m\"\u001b[39m: \u001b[39m\"\u001b[39m\u001b[39mInformation\u001b[39m\u001b[39m\"\u001b[39m,\n\u001b[1;32m    <a href='file:///home/mmorley0395/repos/tmc-summarizer/tmc_summarizer/data_model.py?line=99'>100</a>\u001b[0m     \u001b[39m\"\u001b[39m\u001b[39mheader\u001b[39m\u001b[39m\"\u001b[39m: \u001b[39mNone\u001b[39;00m,\n\u001b[1;32m    <a href='file:///home/mmorley0395/repos/tmc-summarizer/tmc_summarizer/data_model.py?line=100'>101</a>\u001b[0m     \u001b[39m\"\u001b[39m\u001b[39musecols\u001b[39m\u001b[39m\"\u001b[39m: \u001b[39m\"\u001b[39m\u001b[39mA:B\u001b[39m\u001b[39m\"\u001b[39m,\n\u001b[1;32m    <a href='file:///home/mmorley0395/repos/tmc-summarizer/tmc_summarizer/data_model.py?line=101'>102</a>\u001b[0m     \u001b[39m\"\u001b[39m\u001b[39mnames\u001b[39m\u001b[39m\"\u001b[39m: [\u001b[39m\"\u001b[39m\u001b[39mplace_type\u001b[39m\u001b[39m\"\u001b[39m, \u001b[39m\"\u001b[39m\u001b[39mplace_name\u001b[39m\u001b[39m\"\u001b[39m],\n\u001b[1;32m    <a href='file:///home/mmorley0395/repos/tmc-summarizer/tmc_summarizer/data_model.py?line=102'>103</a>\u001b[0m }\n\u001b[0;32m--> <a href='file:///home/mmorley0395/repos/tmc-summarizer/tmc_summarizer/data_model.py?line=104'>105</a>\u001b[0m \u001b[39mself\u001b[39m\u001b[39m.\u001b[39mdf_info_location \u001b[39m=\u001b[39m pd\u001b[39m.\u001b[39;49mread_excel(\u001b[39mself\u001b[39;49m\u001b[39m.\u001b[39;49mfilepath, \u001b[39m*\u001b[39;49m\u001b[39m*\u001b[39;49mlocation_kwargs)\u001b[39m.\u001b[39mdropna()\n\u001b[1;32m    <a href='file:///home/mmorley0395/repos/tmc-summarizer/tmc_summarizer/data_model.py?line=106'>107</a>\u001b[0m \u001b[39m# Load the INFORMATION tab data on date / time\u001b[39;00m\n\u001b[1;32m    <a href='file:///home/mmorley0395/repos/tmc-summarizer/tmc_summarizer/data_model.py?line=107'>108</a>\u001b[0m \u001b[39m# --------------------------------------------\u001b[39;00m\n\u001b[1;32m    <a href='file:///home/mmorley0395/repos/tmc-summarizer/tmc_summarizer/data_model.py?line=108'>109</a>\u001b[0m location_kwargs[\u001b[39m\"\u001b[39m\u001b[39mskiprows\u001b[39m\u001b[39m\"\u001b[39m] \u001b[39m=\u001b[39m \u001b[39m1\u001b[39m\n",
      "File \u001b[0;32m~/miniconda3/envs/tmc_summarizer/lib/python3.8/site-packages/pandas/util/_decorators.py:311\u001b[0m, in \u001b[0;36mdeprecate_nonkeyword_arguments.<locals>.decorate.<locals>.wrapper\u001b[0;34m(*args, **kwargs)\u001b[0m\n\u001b[1;32m    <a href='file:///home/mmorley0395/miniconda3/envs/tmc_summarizer/lib/python3.8/site-packages/pandas/util/_decorators.py?line=304'>305</a>\u001b[0m \u001b[39mif\u001b[39;00m \u001b[39mlen\u001b[39m(args) \u001b[39m>\u001b[39m num_allow_args:\n\u001b[1;32m    <a href='file:///home/mmorley0395/miniconda3/envs/tmc_summarizer/lib/python3.8/site-packages/pandas/util/_decorators.py?line=305'>306</a>\u001b[0m     warnings\u001b[39m.\u001b[39mwarn(\n\u001b[1;32m    <a href='file:///home/mmorley0395/miniconda3/envs/tmc_summarizer/lib/python3.8/site-packages/pandas/util/_decorators.py?line=306'>307</a>\u001b[0m         msg\u001b[39m.\u001b[39mformat(arguments\u001b[39m=\u001b[39marguments),\n\u001b[1;32m    <a href='file:///home/mmorley0395/miniconda3/envs/tmc_summarizer/lib/python3.8/site-packages/pandas/util/_decorators.py?line=307'>308</a>\u001b[0m         \u001b[39mFutureWarning\u001b[39;00m,\n\u001b[1;32m    <a href='file:///home/mmorley0395/miniconda3/envs/tmc_summarizer/lib/python3.8/site-packages/pandas/util/_decorators.py?line=308'>309</a>\u001b[0m         stacklevel\u001b[39m=\u001b[39mstacklevel,\n\u001b[1;32m    <a href='file:///home/mmorley0395/miniconda3/envs/tmc_summarizer/lib/python3.8/site-packages/pandas/util/_decorators.py?line=309'>310</a>\u001b[0m     )\n\u001b[0;32m--> <a href='file:///home/mmorley0395/miniconda3/envs/tmc_summarizer/lib/python3.8/site-packages/pandas/util/_decorators.py?line=310'>311</a>\u001b[0m \u001b[39mreturn\u001b[39;00m func(\u001b[39m*\u001b[39;49margs, \u001b[39m*\u001b[39;49m\u001b[39m*\u001b[39;49mkwargs)\n",
      "File \u001b[0;32m~/miniconda3/envs/tmc_summarizer/lib/python3.8/site-packages/pandas/io/excel/_base.py:457\u001b[0m, in \u001b[0;36mread_excel\u001b[0;34m(io, sheet_name, header, names, index_col, usecols, squeeze, dtype, engine, converters, true_values, false_values, skiprows, nrows, na_values, keep_default_na, na_filter, verbose, parse_dates, date_parser, thousands, decimal, comment, skipfooter, convert_float, mangle_dupe_cols, storage_options)\u001b[0m\n\u001b[1;32m    <a href='file:///home/mmorley0395/miniconda3/envs/tmc_summarizer/lib/python3.8/site-packages/pandas/io/excel/_base.py?line=454'>455</a>\u001b[0m \u001b[39mif\u001b[39;00m \u001b[39mnot\u001b[39;00m \u001b[39misinstance\u001b[39m(io, ExcelFile):\n\u001b[1;32m    <a href='file:///home/mmorley0395/miniconda3/envs/tmc_summarizer/lib/python3.8/site-packages/pandas/io/excel/_base.py?line=455'>456</a>\u001b[0m     should_close \u001b[39m=\u001b[39m \u001b[39mTrue\u001b[39;00m\n\u001b[0;32m--> <a href='file:///home/mmorley0395/miniconda3/envs/tmc_summarizer/lib/python3.8/site-packages/pandas/io/excel/_base.py?line=456'>457</a>\u001b[0m     io \u001b[39m=\u001b[39m ExcelFile(io, storage_options\u001b[39m=\u001b[39;49mstorage_options, engine\u001b[39m=\u001b[39;49mengine)\n\u001b[1;32m    <a href='file:///home/mmorley0395/miniconda3/envs/tmc_summarizer/lib/python3.8/site-packages/pandas/io/excel/_base.py?line=457'>458</a>\u001b[0m \u001b[39melif\u001b[39;00m engine \u001b[39mand\u001b[39;00m engine \u001b[39m!=\u001b[39m io\u001b[39m.\u001b[39mengine:\n\u001b[1;32m    <a href='file:///home/mmorley0395/miniconda3/envs/tmc_summarizer/lib/python3.8/site-packages/pandas/io/excel/_base.py?line=458'>459</a>\u001b[0m     \u001b[39mraise\u001b[39;00m \u001b[39mValueError\u001b[39;00m(\n\u001b[1;32m    <a href='file:///home/mmorley0395/miniconda3/envs/tmc_summarizer/lib/python3.8/site-packages/pandas/io/excel/_base.py?line=459'>460</a>\u001b[0m         \u001b[39m\"\u001b[39m\u001b[39mEngine should not be specified when passing \u001b[39m\u001b[39m\"\u001b[39m\n\u001b[1;32m    <a href='file:///home/mmorley0395/miniconda3/envs/tmc_summarizer/lib/python3.8/site-packages/pandas/io/excel/_base.py?line=460'>461</a>\u001b[0m         \u001b[39m\"\u001b[39m\u001b[39man ExcelFile - ExcelFile already has the engine set\u001b[39m\u001b[39m\"\u001b[39m\n\u001b[1;32m    <a href='file:///home/mmorley0395/miniconda3/envs/tmc_summarizer/lib/python3.8/site-packages/pandas/io/excel/_base.py?line=461'>462</a>\u001b[0m     )\n",
      "File \u001b[0;32m~/miniconda3/envs/tmc_summarizer/lib/python3.8/site-packages/pandas/io/excel/_base.py:1376\u001b[0m, in \u001b[0;36mExcelFile.__init__\u001b[0;34m(self, path_or_buffer, engine, storage_options)\u001b[0m\n\u001b[1;32m   <a href='file:///home/mmorley0395/miniconda3/envs/tmc_summarizer/lib/python3.8/site-packages/pandas/io/excel/_base.py?line=1373'>1374</a>\u001b[0m     ext \u001b[39m=\u001b[39m \u001b[39m\"\u001b[39m\u001b[39mxls\u001b[39m\u001b[39m\"\u001b[39m\n\u001b[1;32m   <a href='file:///home/mmorley0395/miniconda3/envs/tmc_summarizer/lib/python3.8/site-packages/pandas/io/excel/_base.py?line=1374'>1375</a>\u001b[0m \u001b[39melse\u001b[39;00m:\n\u001b[0;32m-> <a href='file:///home/mmorley0395/miniconda3/envs/tmc_summarizer/lib/python3.8/site-packages/pandas/io/excel/_base.py?line=1375'>1376</a>\u001b[0m     ext \u001b[39m=\u001b[39m inspect_excel_format(\n\u001b[1;32m   <a href='file:///home/mmorley0395/miniconda3/envs/tmc_summarizer/lib/python3.8/site-packages/pandas/io/excel/_base.py?line=1376'>1377</a>\u001b[0m         content_or_path\u001b[39m=\u001b[39;49mpath_or_buffer, storage_options\u001b[39m=\u001b[39;49mstorage_options\n\u001b[1;32m   <a href='file:///home/mmorley0395/miniconda3/envs/tmc_summarizer/lib/python3.8/site-packages/pandas/io/excel/_base.py?line=1377'>1378</a>\u001b[0m     )\n\u001b[1;32m   <a href='file:///home/mmorley0395/miniconda3/envs/tmc_summarizer/lib/python3.8/site-packages/pandas/io/excel/_base.py?line=1378'>1379</a>\u001b[0m     \u001b[39mif\u001b[39;00m ext \u001b[39mis\u001b[39;00m \u001b[39mNone\u001b[39;00m:\n\u001b[1;32m   <a href='file:///home/mmorley0395/miniconda3/envs/tmc_summarizer/lib/python3.8/site-packages/pandas/io/excel/_base.py?line=1379'>1380</a>\u001b[0m         \u001b[39mraise\u001b[39;00m \u001b[39mValueError\u001b[39;00m(\n\u001b[1;32m   <a href='file:///home/mmorley0395/miniconda3/envs/tmc_summarizer/lib/python3.8/site-packages/pandas/io/excel/_base.py?line=1380'>1381</a>\u001b[0m             \u001b[39m\"\u001b[39m\u001b[39mExcel file format cannot be determined, you must specify \u001b[39m\u001b[39m\"\u001b[39m\n\u001b[1;32m   <a href='file:///home/mmorley0395/miniconda3/envs/tmc_summarizer/lib/python3.8/site-packages/pandas/io/excel/_base.py?line=1381'>1382</a>\u001b[0m             \u001b[39m\"\u001b[39m\u001b[39man engine manually.\u001b[39m\u001b[39m\"\u001b[39m\n\u001b[1;32m   <a href='file:///home/mmorley0395/miniconda3/envs/tmc_summarizer/lib/python3.8/site-packages/pandas/io/excel/_base.py?line=1382'>1383</a>\u001b[0m         )\n",
      "File \u001b[0;32m~/miniconda3/envs/tmc_summarizer/lib/python3.8/site-packages/pandas/io/excel/_base.py:1250\u001b[0m, in \u001b[0;36minspect_excel_format\u001b[0;34m(content_or_path, storage_options)\u001b[0m\n\u001b[1;32m   <a href='file:///home/mmorley0395/miniconda3/envs/tmc_summarizer/lib/python3.8/site-packages/pandas/io/excel/_base.py?line=1246'>1247</a>\u001b[0m \u001b[39mif\u001b[39;00m \u001b[39misinstance\u001b[39m(content_or_path, \u001b[39mbytes\u001b[39m):\n\u001b[1;32m   <a href='file:///home/mmorley0395/miniconda3/envs/tmc_summarizer/lib/python3.8/site-packages/pandas/io/excel/_base.py?line=1247'>1248</a>\u001b[0m     content_or_path \u001b[39m=\u001b[39m BytesIO(content_or_path)\n\u001b[0;32m-> <a href='file:///home/mmorley0395/miniconda3/envs/tmc_summarizer/lib/python3.8/site-packages/pandas/io/excel/_base.py?line=1249'>1250</a>\u001b[0m \u001b[39mwith\u001b[39;00m get_handle(\n\u001b[1;32m   <a href='file:///home/mmorley0395/miniconda3/envs/tmc_summarizer/lib/python3.8/site-packages/pandas/io/excel/_base.py?line=1250'>1251</a>\u001b[0m     content_or_path, \u001b[39m\"\u001b[39;49m\u001b[39mrb\u001b[39;49m\u001b[39m\"\u001b[39;49m, storage_options\u001b[39m=\u001b[39;49mstorage_options, is_text\u001b[39m=\u001b[39;49m\u001b[39mFalse\u001b[39;49;00m\n\u001b[1;32m   <a href='file:///home/mmorley0395/miniconda3/envs/tmc_summarizer/lib/python3.8/site-packages/pandas/io/excel/_base.py?line=1251'>1252</a>\u001b[0m ) \u001b[39mas\u001b[39;00m handle:\n\u001b[1;32m   <a href='file:///home/mmorley0395/miniconda3/envs/tmc_summarizer/lib/python3.8/site-packages/pandas/io/excel/_base.py?line=1252'>1253</a>\u001b[0m     stream \u001b[39m=\u001b[39m handle\u001b[39m.\u001b[39mhandle\n\u001b[1;32m   <a href='file:///home/mmorley0395/miniconda3/envs/tmc_summarizer/lib/python3.8/site-packages/pandas/io/excel/_base.py?line=1253'>1254</a>\u001b[0m     stream\u001b[39m.\u001b[39mseek(\u001b[39m0\u001b[39m)\n",
      "File \u001b[0;32m~/miniconda3/envs/tmc_summarizer/lib/python3.8/site-packages/pandas/io/common.py:798\u001b[0m, in \u001b[0;36mget_handle\u001b[0;34m(path_or_buf, mode, encoding, compression, memory_map, is_text, errors, storage_options)\u001b[0m\n\u001b[1;32m    <a href='file:///home/mmorley0395/miniconda3/envs/tmc_summarizer/lib/python3.8/site-packages/pandas/io/common.py?line=788'>789</a>\u001b[0m         handle \u001b[39m=\u001b[39m \u001b[39mopen\u001b[39m(\n\u001b[1;32m    <a href='file:///home/mmorley0395/miniconda3/envs/tmc_summarizer/lib/python3.8/site-packages/pandas/io/common.py?line=789'>790</a>\u001b[0m             handle,\n\u001b[1;32m    <a href='file:///home/mmorley0395/miniconda3/envs/tmc_summarizer/lib/python3.8/site-packages/pandas/io/common.py?line=790'>791</a>\u001b[0m             ioargs\u001b[39m.\u001b[39mmode,\n\u001b[0;32m   (...)\u001b[0m\n\u001b[1;32m    <a href='file:///home/mmorley0395/miniconda3/envs/tmc_summarizer/lib/python3.8/site-packages/pandas/io/common.py?line=793'>794</a>\u001b[0m             newline\u001b[39m=\u001b[39m\u001b[39m\"\u001b[39m\u001b[39m\"\u001b[39m,\n\u001b[1;32m    <a href='file:///home/mmorley0395/miniconda3/envs/tmc_summarizer/lib/python3.8/site-packages/pandas/io/common.py?line=794'>795</a>\u001b[0m         )\n\u001b[1;32m    <a href='file:///home/mmorley0395/miniconda3/envs/tmc_summarizer/lib/python3.8/site-packages/pandas/io/common.py?line=795'>796</a>\u001b[0m     \u001b[39melse\u001b[39;00m:\n\u001b[1;32m    <a href='file:///home/mmorley0395/miniconda3/envs/tmc_summarizer/lib/python3.8/site-packages/pandas/io/common.py?line=796'>797</a>\u001b[0m         \u001b[39m# Binary mode\u001b[39;00m\n\u001b[0;32m--> <a href='file:///home/mmorley0395/miniconda3/envs/tmc_summarizer/lib/python3.8/site-packages/pandas/io/common.py?line=797'>798</a>\u001b[0m         handle \u001b[39m=\u001b[39m \u001b[39mopen\u001b[39;49m(handle, ioargs\u001b[39m.\u001b[39;49mmode)\n\u001b[1;32m    <a href='file:///home/mmorley0395/miniconda3/envs/tmc_summarizer/lib/python3.8/site-packages/pandas/io/common.py?line=798'>799</a>\u001b[0m     handles\u001b[39m.\u001b[39mappend(handle)\n\u001b[1;32m    <a href='file:///home/mmorley0395/miniconda3/envs/tmc_summarizer/lib/python3.8/site-packages/pandas/io/common.py?line=800'>801</a>\u001b[0m \u001b[39m# Convert BytesIO or file objects passed with an encoding\u001b[39;00m\n",
      "\u001b[0;31mFileNotFoundError\u001b[0m: [Errno 2] No such file or directory: '/mnt/g/My Drive/TMCs/1_Central_Ave.xls'"
     ]
    }
   ],
   "source": [
    "tmc = TMC_File(tmc_path)\n"
   ]
  }
 ],
 "metadata": {
  "interpreter": {
   "hash": "c8f58f42a5efc4c93fa2b656e0d4587a7fc0ed98038db235e73ba452edb6582e"
  },
  "kernelspec": {
   "display_name": "Python 3.8.13 ('tmc_summarizer')",
   "language": "python",
   "name": "python3"
  },
  "language_info": {
   "codemirror_mode": {
    "name": "ipython",
    "version": 3
   },
   "file_extension": ".py",
   "mimetype": "text/x-python",
   "name": "python",
   "nbconvert_exporter": "python",
   "pygments_lexer": "ipython3",
   "version": "3.8.13"
  },
  "orig_nbformat": 4
 },
 "nbformat": 4,
 "nbformat_minor": 2
}
